{
 "cells": [
  {
   "attachments": {},
   "cell_type": "markdown",
   "metadata": {},
   "source": [
    "# Software Hospital\n",
    "\n",
    "Cristian Estrada - Evidencia Final\n",
    "\n",
    "## Uso de programa\n",
    "\n",
    "Este programa tiene la funcion de realizar un sistema de hospital, en el cual tienes un registro de clientes, usuarios, citas y entre otras ventajas que te permiten tener un orden dentro de tu programa.\n",
    "\n",
    "## CRÉDITOS\n",
    "\n",
    "[@Cristian Estrada]\n",
    "\n",
    "## Instalacion\n",
    "\n",
    "Lo recomendable es hacer uso de una copia original de este GIT para poder tener la libreria llamada gson-2.6.2.rar dentro de la instalación del programa, de no ser asi la descarga puedes obtenerla desde: (https://mvnrepository.com/artifact/com.google.code.gson/gson/2.6.2)\n",
    "La apliación se puede iniciar y modificar los usuarios que tienen permisos de adminsitración, los usuarios cuentan con un registro de (Nombre, NumeroID, Contraseña) de tipo (String, Int, Int).\n",
    "Para iniciar cada proyecto puedes tener el registro de los mismos usuarios o agregarlos manualmente.\n",
    "\n",
    "## LICENCIA\n",
    "\n",
    "@Eclipse @JAVA @Apache\n"
   ]
  }
 ],
 "metadata": {
  "kernelspec": {
   "display_name": "Python 3",
   "language": "python",
   "name": "python3"
  },
  "language_info": {
   "name": "python",
   "version": "3.10.4"
  },
  "orig_nbformat": 4,
  "vscode": {
   "interpreter": {
    "hash": "3ad933181bd8a04b432d3370b9dc3b0662ad032c4dfaa4e4f1596c548f763858"
   }
  }
 },
 "nbformat": 4,
 "nbformat_minor": 2
}
